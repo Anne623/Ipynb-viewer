{
 "metadata": {
  "name": "",
  "signature": "sha256:1a3f636dcf2ebf4dbd4afa5848db66fc0312939e836b60d0c0d54dbb3a7da402"
 },
 "nbformat": 3,
 "nbformat_minor": 0,
 "worksheets": [
  {
   "cells": [
    {
     "cell_type": "markdown",
     "metadata": {},
     "source": [
      "<div class=\"alert alert-error\">\u8bf7\u8c28\u614e\u64cd\u4f5c\u7ebf\u4e0a\u6570\u636e, \u64cd\u4f5c\u4f1a\u88ab\u8bb0\u5f55\u54e6</div>"
     ]
    },
    {
     "cell_type": "markdown",
     "metadata": {},
     "source": [
      "<div class=\"alert alert-success\">\n",
      "\u4f7f\u7528\u6307\u5357\n",
      "</div>"
     ]
    },
    {
     "cell_type": "markdown",
     "level": 2,
     "metadata": {},
     "source": [
      "<button class='btn'><i class=\"icon-play\"></i></button>ctrl+enter <button class='btn'><i class=\"icon-stop\"></i></button>"
     ]
    },
    {
     "cell_type": "code",
     "collapsed": false,
     "input": [
      "from IPython.html import widgets\n",
      "from IPython.display import clear_output, display, HTML\n",
      "\n",
      "txt = widgets.TextWidget()\n",
      "display(txt)\n",
      "\n",
      "\n",
      "\n",
      "txt.value = 'Some Text'\n",
      "\n"
     ],
     "language": "python",
     "metadata": {},
     "outputs": [],
     "prompt_number": 3
    },
    {
     "cell_type": "code",
     "collapsed": false,
     "input": [],
     "language": "python",
     "metadata": {},
     "outputs": []
    }
   ],
   "metadata": {}
  }
 ]
}
